{
 "cells": [
  {
   "cell_type": "markdown",
   "metadata": {},
   "source": [
    "# This notebook aim to evaluate the model without deploying it"
   ]
  },
  {
   "cell_type": "raw",
   "metadata": {},
   "source": [
    "import sys\n",
    "!{sys.executable} -m pip install loguru\n",
    "!{sys.executable} -m pip install google-cloud-logging\n",
    "!pip install google-cloud-language==1.3.2\n"
   ]
  },
  {
   "cell_type": "code",
   "execution_count": 1,
   "metadata": {},
   "outputs": [],
   "source": [
    "# Import dependencies\n",
    "# Change the path to the directory\n",
    "import os\n",
    "os.chdir('docker_image')\n",
    "# os.listdir()\n",
    "\n",
    "from OptimalPackingFinder import OptimalPackingFinder"
   ]
  },
  {
   "cell_type": "code",
   "execution_count": 2,
   "metadata": {},
   "outputs": [],
   "source": [
    "# Init the Translation model\n",
    "packer = OptimalPackingFinder()"
   ]
  },
  {
   "cell_type": "code",
   "execution_count": 3,
   "metadata": {},
   "outputs": [
    {
     "name": "stderr",
     "output_type": "stream",
     "text": [
      "INFO:OptimalPackingFinder:Input data: {'item_1': {'item_no': 1, 'width': 6, 'height': 1, 'depth': 3, 'weight': 0}, 'item_2': {'item_no': 2, 'width': 30, 'height': 9, 'depth': 5, 'weight': 0}, 'item_3': {'item_no': 3, 'width': 10, 'height': 11, 'depth': 24, 'weight': 0}, 'item_4': {'item_no': 4, 'width': 12, 'height': 3, 'depth': 6, 'weight': 0}, 'item_5': {'item_no': 5, 'width': 28, 'height': 6, 'depth': 20, 'weight': 0}}\n",
      "INFO:OptimalPackingFinder:Input data type: <class 'dict'>\n"
     ]
    },
    {
     "name": "stdout",
     "output_type": "stream",
     "text": [
      "Initial estimate: (86, 30, 58)\n",
      "Reducing dimensions to: (81.7, 28.5, 55.099999999999994)\n",
      "Reducing dimensions to: (77.615, 27.075, 52.34499999999999)\n",
      "Reducing dimensions to: (73.73424999999999, 25.721249999999998, 49.72774999999999)\n",
      "Reducing dimensions to: (70.04753749999999, 24.435187499999998, 47.241362499999994)\n",
      "Reducing dimensions to: (66.545160625, 23.213428124999997, 44.87929437499999)\n",
      "Reducing dimensions to: (63.21790259374999, 22.052756718749997, 42.63532965624999)\n",
      "Reducing dimensions to: (60.05700746406249, 20.950118882812497, 40.50356317343749)\n",
      "Reducing dimensions to: (57.05415709085936, 19.902612938671872, 38.478385014765614)\n",
      "Reducing dimensions to: (54.20144923631639, 18.907482291738276, 36.554465764027334)\n",
      "Reducing dimensions to: (51.49137677450057, 17.96210817715136, 34.726742475825965)\n",
      "Reducing dimensions to: (48.916807935775545, 17.064002768293793, 32.990405352034664)\n",
      "Reducing dimensions to: (46.47096753898676, 16.210802629879105, 31.34088508443293)\n",
      "Found optimal dimensions (previous iteration): (48.916807935775545, 17.064002768293793, 32.990405352034664)\n"
     ]
    }
   ],
   "source": [
    "# Define model input\n",
    "model_input = {\n",
    "    \"item_1\": {\n",
    "        \"item_no\": 1,\n",
    "        \"width\": 6,\n",
    "        \"height\": 1,\n",
    "        \"depth\": 3,\n",
    "        \"weight\": 0\n",
    "    },\n",
    "    \"item_2\": {\n",
    "        \"item_no\": 2,\n",
    "        \"width\": 30,\n",
    "        \"height\": 9,\n",
    "        \"depth\": 5,\n",
    "        \"weight\": 0\n",
    "    },\n",
    "    \"item_3\": {\n",
    "        \"item_no\": 3,\n",
    "        \"width\": 10,\n",
    "        \"height\": 11,\n",
    "        \"depth\": 24,\n",
    "        \"weight\": 0\n",
    "    },\n",
    "    \"item_4\": {\n",
    "        \"item_no\": 4,\n",
    "        \"width\": 12,\n",
    "        \"height\": 3,\n",
    "        \"depth\": 6,\n",
    "        \"weight\": 0\n",
    "    },\n",
    "    \"item_5\": {\n",
    "        \"item_no\": 5,\n",
    "        \"width\": 28,\n",
    "        \"height\": 6,\n",
    "        \"depth\": 20,\n",
    "        \"weight\": 0\n",
    "    }\n",
    "}\n",
    "\n",
    "\n",
    "# Make prediction\n",
    "prediction = packer.predict(model_input)\n"
   ]
  },
  {
   "cell_type": "code",
   "execution_count": 4,
   "metadata": {},
   "outputs": [
    {
     "data": {
      "text/plain": [
       "{'width': 48.916807935775545,\n",
       " 'height': 17.064002768293793,\n",
       " 'depth': 32.990405352034664}"
      ]
     },
     "execution_count": 4,
     "metadata": {},
     "output_type": "execute_result"
    }
   ],
   "source": [
    "# Check prediction: \n",
    "prediction\n"
   ]
  },
  {
   "cell_type": "code",
   "execution_count": 5,
   "metadata": {},
   "outputs": [
    {
     "name": "stdout",
     "output_type": "stream",
     "text": [
      "Python 3.10.12\n"
     ]
    }
   ],
   "source": [
    "!python --version"
   ]
  },
  {
   "cell_type": "code",
   "execution_count": null,
   "metadata": {},
   "outputs": [],
   "source": []
  }
 ],
 "metadata": {
  "environment": {
   "kernel": "python3",
   "name": "pytorch-gpu.2-0.m110",
   "type": "gcloud",
   "uri": "gcr.io/deeplearning-platform-release/pytorch-gpu.2-0:m110"
  },
  "kernelspec": {
   "display_name": "Python 3",
   "language": "python",
   "name": "python3"
  },
  "language_info": {
   "codemirror_mode": {
    "name": "ipython",
    "version": 3
   },
   "file_extension": ".py",
   "mimetype": "text/x-python",
   "name": "python",
   "nbconvert_exporter": "python",
   "pygments_lexer": "ipython3",
   "version": "3.10.12"
  },
  "vscode": {
   "interpreter": {
    "hash": "31f2aee4e71d21fbe5cf8b01ff0e069b9275f58929596ceb00d14d90e3e16cd6"
   }
  }
 },
 "nbformat": 4,
 "nbformat_minor": 4
}
